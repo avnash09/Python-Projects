{
 "cells": [
  {
   "cell_type": "code",
   "execution_count": 1,
   "id": "c2c8fbaa",
   "metadata": {},
   "outputs": [],
   "source": [
    "cards = [11,2,3,4,5,6,7,8,9,10,10,10,10]"
   ]
  },
  {
   "cell_type": "code",
   "execution_count": 3,
   "id": "b9051023",
   "metadata": {},
   "outputs": [],
   "source": [
    "import random"
   ]
  },
  {
   "cell_type": "code",
   "execution_count": 1,
   "id": "3be33fe4",
   "metadata": {},
   "outputs": [],
   "source": [
    "def deal_card():\n",
    "    cards = [11,2,3,4,5,6,7,8,9,10,10,10,10]\n",
    "    return random.choice(cards)"
   ]
  },
  {
   "cell_type": "code",
   "execution_count": null,
   "id": "fcd95858",
   "metadata": {},
   "outputs": [
    {
     "name": "stdout",
     "output_type": "stream",
     "text": [
      "[10, 6] [2, 10]\n"
     ]
    }
   ],
   "source": [
    "dealer = []\n",
    "player = []\n",
    "for _ in range(2):\n",
    "    dealer.append(deal_card())\n",
    "    player.append(deal_card())\n",
    "\n",
    "print(dealer,player)"
   ]
  },
  {
   "cell_type": "code",
   "execution_count": 5,
   "id": "2b8ca6f2",
   "metadata": {},
   "outputs": [
    {
     "name": "stdout",
     "output_type": "stream",
     "text": [
      "3\n"
     ]
    }
   ],
   "source": [
    "a = [1,2]\n",
    "print(sum(a) if a else 0)"
   ]
  },
  {
   "cell_type": "code",
   "execution_count": 4,
   "id": "30c628e7",
   "metadata": {},
   "outputs": [
    {
     "name": "stdout",
     "output_type": "stream",
     "text": [
      "[7, 10] total = 17\n"
     ]
    }
   ],
   "source": [
    "def show_total(cards = []):\n",
    "    if 11 in cards and sum(cards) >= 21:\n",
    "        return sum(cards) - 10\n",
    "    return sum(cards) if cards else 0   #return 0 if cards list is empty, return sum if cards list is non-empty\n",
    "\n",
    "c = [deal_card() for _ in range(2)]\n",
    "\n",
    "print(f'{c} total = {show_total(c)}')"
   ]
  },
  {
   "cell_type": "code",
   "execution_count": 7,
   "id": "44ce4b5a",
   "metadata": {},
   "outputs": [
    {
     "name": "stdout",
     "output_type": "stream",
     "text": [
      "\n",
      ".------.            _     _            _    _            _    \n",
      "|A_  _ |.          | |   | |          | |  (_)          | |   \n",
      "|( \\/ ).-----.     | |__ | | __ _  ___| | ___  __ _  ___| | __\n",
      "| \\  /|K /\\  |     | '_ \\| |/ _` |/ __| |/ / |/ _` |/ __| |/ /\n",
      "|  \\/ | /  \\ |     | |_) | | (_| | (__|   <| | (_| | (__|   < \n",
      "`-----| \\  / |     |_.__/|_|\\__,_|\\___|_|\\_\\ |\\__,_|\\___|_|\\_\\\\\n",
      "      |  \\/ K|                            _/ |                \n",
      "      `------'                           |__/           \n",
      "\n"
     ]
    }
   ],
   "source": [
    "from blackjack_art import logo\n",
    "\n",
    "print(logo)"
   ]
  },
  {
   "cell_type": "code",
   "execution_count": null,
   "id": "1ac22797",
   "metadata": {},
   "outputs": [
    {
     "name": "stdout",
     "output_type": "stream",
     "text": [
      "[2, 10] 12\n"
     ]
    }
   ],
   "source": [
    "another_card = input(\"Type 'y' to get another card, 'n' to pass: \").upper()\n",
    "\n",
    "if another_card[0] == 'Y':\n",
    "    player.append(deal_card())\n",
    "\n",
    "print(player, show_total(player))"
   ]
  },
  {
   "cell_type": "code",
   "execution_count": 9,
   "id": "d4248afe",
   "metadata": {},
   "outputs": [],
   "source": [
    "def bust(player):\n",
    "\n",
    "    if show_total(player) > 21:\n",
    "        return True\n",
    "    return False"
   ]
  },
  {
   "cell_type": "code",
   "execution_count": 10,
   "id": "60a680a4",
   "metadata": {},
   "outputs": [],
   "source": [
    "# game_on = True if input(\"Do you want to play a game of Blackjack? Type 'y' or 'n': \")[0].upper() == 'Y' else False\n",
    "\n",
    "# print(game_on)"
   ]
  },
  {
   "cell_type": "code",
   "execution_count": 11,
   "id": "506efb79",
   "metadata": {},
   "outputs": [],
   "source": [
    "import os\n",
    "def clear_terminal():\n",
    "\n",
    "    if os.name == 'nt':\n",
    "        os.system('cls')\n",
    "    else:\n",
    "        os.system('clear')"
   ]
  },
  {
   "cell_type": "code",
   "execution_count": 12,
   "id": "36e75f3f",
   "metadata": {},
   "outputs": [],
   "source": [
    "def play_again():\n",
    "\n",
    "    replay = input(\"DO you want to play again? Type 'y' or 'n': \").upper()\n",
    "    \n",
    "    return True if replay[0] == 'Y' else False"
   ]
  },
  {
   "cell_type": "code",
   "execution_count": 5,
   "id": "21237723",
   "metadata": {},
   "outputs": [
    {
     "name": "stdout",
     "output_type": "stream",
     "text": [
      "[5, 6] [5, 10]\n"
     ]
    }
   ],
   "source": [
    "dealer = []\n",
    "player = []\n",
    "for _ in range(2):\n",
    "    dealer.append(deal_card())\n",
    "    player.append(deal_card())\n",
    "\n",
    "print(dealer,player)"
   ]
  },
  {
   "cell_type": "code",
   "execution_count": null,
   "id": "ce8aec1c",
   "metadata": {},
   "outputs": [],
   "source": [
    "game_on = True if input(\"Do you want to play a game of Blackjack? Type 'y' or 'n': \")[0].upper() == 'Y' else False\n",
    "\n",
    "while game_on:\n",
    "\n",
    "    clear_terminal()\n",
    "    \n",
    "    while True:\n",
    "        \n",
    "        print(f'Your cards: {player}, Current score: {show_total(player)}')\n",
    "        print(f\"Computer's first card: {dealer[0]}\")\n",
    "\n",
    "        another_card = input(\"Type 'y' to get another card, 'n' to pass: \").upper()\n",
    "\n",
    "        if bust(player):\n",
    "            print('Player Busted!')\n",
    "            break\n",
    "\n",
    "        if another_card[0] == 'Y':\n",
    "            player.append(deal_card())\n",
    "            continue\n",
    "\n",
    "        else:\n",
    "            while show_total(dealer) < 17:\n",
    "                dealer.append(deal_card())\n",
    "            \n",
    "                if bust(dealer):\n",
    "                    print('Player Busted!')\n",
    "                    break\n",
    "        break\n",
    "    \n",
    "    print(f\"Your final hand: {player}, final score: {show_total(player)}.\")\n",
    "    print(f\"Computer's final hand: {dealer}, final score: {show_total(dealer)}.\")\n",
    "\n",
    "    if show_total(player) == show_total(dealer):\n",
    "        print(\"It's a draw!\")\n",
    "    elif show_total(player) < show_total(dealer):\n",
    "        print('Opponent went over. You win!')\n",
    "    elif show_total(player) < show_total(dealer):\n",
    "        print('You went over. Computer wins!.')\n",
    "    \n",
    "    if not play_again():\n",
    "        game_on = False\n",
    "    \n",
    "    "
   ]
  }
 ],
 "metadata": {
  "kernelspec": {
   "display_name": "Python 3",
   "language": "python",
   "name": "python3"
  },
  "language_info": {
   "codemirror_mode": {
    "name": "ipython",
    "version": 3
   },
   "file_extension": ".py",
   "mimetype": "text/x-python",
   "name": "python",
   "nbconvert_exporter": "python",
   "pygments_lexer": "ipython3",
   "version": "3.12.6"
  }
 },
 "nbformat": 4,
 "nbformat_minor": 5
}
